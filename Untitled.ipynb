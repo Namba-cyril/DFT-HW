{
 "cells": [
  {
   "cell_type": "code",
   "execution_count": 18,
   "id": "3e0d6ec0-dde3-41aa-8275-8fc1a89b8d04",
   "metadata": {},
   "outputs": [],
   "source": [
    "import os \n",
    "import ase \n",
    "from ase import io \n",
    "from ase.io import read, write "
   ]
  },
  {
   "cell_type": "code",
   "execution_count": 19,
   "id": "b90a616d-ed14-4321-b7b2-c2c218e33d42",
   "metadata": {},
   "outputs": [],
   "source": [
    "mol = io.read(os.path.normpath(r\"C:\\Users\\s319214\\Documents\\DFT\\Conformer3D_COMPOUND_CID_441278.sdf\"))\n",
    "#data = pd.read_csv(os.path.normpath(r\"C:\\Users\\s319214\\Documents\\PhD\\EnamineReal\\Ena9a_10000.csv\"))"
   ]
  },
  {
   "cell_type": "code",
   "execution_count": 13,
   "id": "3b3b564d-9f4b-4d9e-a20f-9302df22a888",
   "metadata": {},
   "outputs": [],
   "source": [
    "mol.set_cell([20, 20, 20])\n",
    "mol.center()\n",
    "mol.set_pbc([True, True, True])\n"
   ]
  },
  {
   "cell_type": "code",
   "execution_count": 17,
   "id": "9fb0a66c-608e-4a8c-beea-775fe4a02f76",
   "metadata": {},
   "outputs": [],
   "source": [
    "pseudos = {\n",
    "    'C': 'C.pse-n-kjpaw_psl.1.0.0.UPF',\n",
    "    'H': 'H.pse-n-kjpaw_psl.1.0.0.UPF',\n",
    "    'N': 'N.pse-n-kjpaw_psl.1.0.0.UPF',\n",
    "    'O': 'O.pse-n-kjpaw_psl.1.0.0.UPF'\n",
    "}\n",
    "write(\"pentazocine.in\", mol, format=\"espresso-in\", pseudopotentials=pseudos)"
   ]
  },
  {
   "cell_type": "code",
   "execution_count": null,
   "id": "8673d5f9-16fd-46d9-8002-d3e2ab7738df",
   "metadata": {},
   "outputs": [],
   "source": []
  }
 ],
 "metadata": {
  "kernelspec": {
   "display_name": "DFT",
   "language": "python",
   "name": "dft"
  },
  "language_info": {
   "codemirror_mode": {
    "name": "ipython",
    "version": 3
   },
   "file_extension": ".py",
   "mimetype": "text/x-python",
   "name": "python",
   "nbconvert_exporter": "python",
   "pygments_lexer": "ipython3",
   "version": "3.12.9"
  }
 },
 "nbformat": 4,
 "nbformat_minor": 5
}

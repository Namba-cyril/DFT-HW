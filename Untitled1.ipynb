{
 "cells": [
  {
   "cell_type": "code",
   "execution_count": 5,
   "id": "557228b4-85a0-4d57-8940-80b8b1292cca",
   "metadata": {},
   "outputs": [
    {
     "name": "stdout",
     "output_type": "stream",
     "text": [
      "Quantum ESPRESSO input file written to: pentazocine_relax.in\n"
     ]
    }
   ],
   "source": [
    "import os\n",
    "from ase.io import read\n",
    "from ase import Atoms\n",
    "from collections import OrderedDict\n",
    "\n",
    "def generate_qe_input_from_sdf(sdf_file, output_file='pentazocine_relax.in'):\n",
    "    # Read SDF file using ASE (requires Open Babel as backend)\n",
    "    mol = read(os.path.normpath(r\"C:\\Users\\s319214\\Documents\\DFT\\Conformer3D_COMPOUND_CID_441278.sdf\"))\n",
    "    mol.center(vacuum=10.0)\n",
    "\n",
    "    unique_elements = list(OrderedDict.fromkeys(atom.symbol for atom in mol))\n",
    "    pseudo_dict = {\n",
    "        'H': 'H.pbesol-n-kjpaw_psl.1.0.0.UPF',\n",
    "        'C': 'C.pbesol-n-kjpaw_psl.1.0.0.UPF',\n",
    "        'N': 'N.pbesol-n-kjpaw_psl.1.0.0.UPF',\n",
    "        'O': 'O.pbesol-n-kjpaw_psl.1.0.0.UPF',\n",
    "        # Add more if needed\n",
    "    }\n",
    "\n",
    "    with open(output_file, 'w') as f:\n",
    "        f.write(\"&CONTROL\\n\")\n",
    "        f.write(\"  calculation = 'relax',\\n\")\n",
    "        f.write(\"  prefix = 'pentazocine',\\n\")\n",
    "        f.write(\"  outdir = './out/',\\n\")\n",
    "        f.write(\"  pseudo_dir = './pseudo/',\\n\")\n",
    "        f.write(\"  tprnfor = .true.,\\n\")\n",
    "        f.write(\"  tstress = .true.,\\n\")\n",
    "        f.write(\"  verbosity = 'high',\\n\")\n",
    "        f.write(\"  etot_conv_thr = 1.0d-5,\\n\")\n",
    "        f.write(\"  forc_conv_thr = 1.0d-4,\\n\")\n",
    "        f.write(\"/\\n\\n\")\n",
    "\n",
    "        f.write(\"&SYSTEM\\n\")\n",
    "        f.write(\"  ibrav = 0,\\n\")\n",
    "        f.write(f\"  nat = {len(mol)},\\n\")\n",
    "        f.write(f\"  ntyp = {len(unique_elements)},\\n\")\n",
    "        f.write(\"  ecutwfc = 30.0,\\n\")\n",
    "        f.write(\"  ecutrho = 240.0,\\n\")\n",
    "        f.write(\"  occupations = 'fixed',\\n\")\n",
    "        f.write(\"  nosym = .true.,\\n\")\n",
    "        f.write(\"/\\n\\n\")\n",
    "\n",
    "        f.write(\"&ELECTRONS\\n\")\n",
    "        f.write(\"  conv_thr = 1.0d-8,\\n\")\n",
    "        f.write(\"  electron_maxstep = 100,\\n\")\n",
    "        f.write(\"  mixing_beta = 0.4,\\n\")\n",
    "        f.write(\"/\\n\\n\")\n",
    "\n",
    "        f.write(\"&IONS\\n\")\n",
    "        f.write(\"  ion_dynamics = 'bfgs',\\n\")\n",
    "        f.write(\"/\\n\\n\")\n",
    "\n",
    "        f.write(\"ATOMIC_SPECIES\\n\")\n",
    "        for el in unique_elements:\n",
    "            mass = mol[[atom.symbol for atom in mol].index(el)].mass\n",
    "            pseudo = pseudo_dict.get(el, f\"{el}.UPF\")\n",
    "            f.write(f\"{el:<2} {mass:.4f} {pseudo}\\n\")\n",
    "        f.write(\"\\n\")\n",
    "\n",
    "        f.write(\"CELL_PARAMETERS angstrom\\n\")\n",
    "        for vec in mol.get_cell():\n",
    "            f.write(\"  {:10.6f} {:10.6f} {:10.6f}\\n\".format(*vec))\n",
    "        f.write(\"\\n\")\n",
    "        \n",
    "        f.write(\"K_POINTS automatic\\n\")\n",
    "        f.write(\"1 1 1 0 0 0\\n\")\n",
    "        \n",
    "        f.write(\"ATOMIC_POSITIONS angstrom\\n\")\n",
    "        for atom in mol:\n",
    "            f.write(f\"{atom.symbol:<2} {atom.position[0]:10.6f} {atom.position[1]:10.6f} {atom.position[2]:10.6f}\\n\")\n",
    "        f.write(\"\\n\")\n",
    "\n",
    "    print(f\"Quantum ESPRESSO input file written to: {output_file}\")\n",
    "\n",
    "# Example usage\n",
    "if __name__ == \"__main__\":\n",
    "    generate_qe_input_from_sdf(\"pentazocine.sdf\")\n"
   ]
  },
  {
   "cell_type": "code",
   "execution_count": null,
   "id": "bd8c3acd-654e-4e35-a89b-504790a041d7",
   "metadata": {},
   "outputs": [],
   "source": []
  }
 ],
 "metadata": {
  "kernelspec": {
   "display_name": "DFT",
   "language": "python",
   "name": "dft"
  },
  "language_info": {
   "codemirror_mode": {
    "name": "ipython",
    "version": 3
   },
   "file_extension": ".py",
   "mimetype": "text/x-python",
   "name": "python",
   "nbconvert_exporter": "python",
   "pygments_lexer": "ipython3",
   "version": "3.12.9"
  }
 },
 "nbformat": 4,
 "nbformat_minor": 5
}
